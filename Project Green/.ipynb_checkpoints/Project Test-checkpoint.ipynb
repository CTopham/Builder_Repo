{
 "cells": [
  {
   "cell_type": "code",
   "execution_count": 22,
   "metadata": {
    "scrolled": false
   },
   "outputs": [
    {
     "name": "stdout",
     "output_type": "stream",
     "text": [
      "[{\"cast_id\": 242, \"character\": \"Jake Sully\", \"credit_id\": \"5602a8a7c3a3685532001c9a\", \"gender\": 2, \"id\": 65731, \"name\": \"Sam Worthington\", \"order\": 0}, {\"cast_id\": 3, \"character\": \"Neytiri\", \"credit_id\": \"52fe48009251416c750ac9cb\", \"gender\": 1, \"id\": 8691, \"name\": \"Zoe Saldana\", \"order\": 1}, {\"cast_id\": 25, \"character\": \"Dr. Grace Augustine\", \"credit_id\": \"52fe48009251416c750aca39\", \"gender\": 1, \"id\": 10205, \"name\": \"Sigourney Weaver\", \"order\": 2}, {\"cast_id\": 4, \"character\": \"Col. Quaritch\", \"credit_id\": \"52fe48009251416c750ac9cf\", \"gender\": 2, \"id\": 32747, \"name\": \"Stephen Lang\", \"order\": 3}, {\"cast_id\": 5, \"character\": \"Trudy Chacon\", \"credit_id\": \"52fe48009251416c750ac9d3\", \"gender\": 1, \"id\": 17647, \"name\": \"Michelle Rodriguez\", \"order\": 4}, {\"cast_id\": 8, \"character\": \"Selfridge\", \"credit_id\": \"52fe48009251416c750ac9e1\", \"gender\": 2, \"id\": 1771, \"name\": \"Giovanni Ribisi\", \"order\": 5}, {\"cast_id\": 7, \"character\": \"Norm Spellman\", \"credit_id\": \"52fe48009251416c750ac9dd\", \"gender\": 2, \"id\": 59231, \"name\": \"Joel David Moore\", \"order\": 6}, {\"cast_id\": 9, \"character\": \"Moat\", \"credit_id\": \"52fe48009251416c750ac9e5\", \"gender\": 1, \"id\": 30485, \"name\": \"CCH Pounder\", \"order\": 7}, {\"cast_id\": 11, \"character\": \"Eytukan\", \"credit_id\": \"52fe48009251416c750ac9ed\", \"gender\": 2, \"id\": 15853, \"name\": \"Wes Studi\", \"order\": 8}, {\"cast_id\": 10, \"character\": \"Tsu'Tey\", \"credit_id\": \"52fe48009251416c750ac9e9\", \"gender\": 2, \"id\": 10964, \"name\": \"Laz Alonso\", \"order\": 9}, {\"cast_id\": 12, \"character\": \"Dr. Max Patel\", \"credit_id\": \"52fe48009251416c750ac9f1\", \"gender\": 2, \"id\": 95697, \"name\": \"Dileep Rao\", \"order\": 10}, {\"cast_id\": 13, \"character\": \"Lyle Wainfleet\", \"credit_id\": \"52fe48009251416c750ac9f5\", \"gender\": 2, \"id\": 98215, \"name\": \"Matt Gerald\", \"order\": 11}, {\"cast_id\": 32, \"character\": \"Private Fike\", \"credit_id\": \"52fe48009251416c750aca5b\", \"gender\": 2, \"id\": 154153, \"name\": \"Sean Anthony Moran\", \"order\": 12}, {\"cast_id\": 33, \"character\": \"Cryo Vault Med Tech\", \"credit_id\": \"52fe48009251416c750aca5f\", \"gender\": 2, \"id\": 397312, \"name\": \"Jason Whyte\", \"order\": 13}, {\"cast_id\": 34, \"character\": \"Venture Star Crew Chief\", \"credit_id\": \"52fe48009251416c750aca63\", \"gender\": 2, \"id\": 42317, \"name\": \"Scott Lawrence\", \"order\": 14}, {\"cast_id\": 35, \"character\": \"Lock Up Trooper\", \"credit_id\": \"52fe48009251416c750aca67\", \"gender\": 2, \"id\": 986734, \"name\": \"Kelly Kilgour\", \"order\": 15}, {\"cast_id\": 36, \"character\": \"Shuttle Pilot\", \"credit_id\": \"52fe48009251416c750aca6b\", \"gender\": 0, \"id\": 1207227, \"name\": \"James Patrick Pitt\", \"order\": 16}, {\"cast_id\": 37, \"character\": \"Shuttle Co-Pilot\", \"credit_id\": \"52fe48009251416c750aca6f\", \"gender\": 0, \"id\": 1180936, \"name\": \"Sean Patrick Murphy\", \"order\": 17}, {\"cast_id\": 38, \"character\": \"Shuttle Crew Chief\", \"credit_id\": \"52fe48009251416c750aca73\", \"gender\": 2, \"id\": 1019578, \"name\": \"Peter Dillon\", \"order\": 18}, {\"cast_id\": 39, \"character\": \"Tractor Operator / Troupe\", \"credit_id\": \"52fe48009251416c750aca77\", \"gender\": 0, \"id\": 91443, \"name\": \"Kevin Dorman\", \"order\": 19}, {\"cast_id\": 40, \"character\": \"Dragon Gunship Pilot\", \"credit_id\": \"52fe48009251416c750aca7b\", \"gender\": 2, \"id\": 173391, \"name\": \"Kelson Henderson\", \"order\": 20}, {\"cast_id\": 41, \"character\": \"Dragon Gunship Gunner\", \"credit_id\": \"52fe48009251416c750aca7f\", \"gender\": 0, \"id\": 1207236, \"name\": \"David Van Horn\", \"order\": 21}, {\"cast_id\": 42, \"character\": \"Dragon Gunship Navigator\", \"credit_id\": \"52fe48009251416c750aca83\", \"gender\": 0, \"id\": 215913, \"name\": \"Jacob Tomuri\", \"order\": 22}, {\"cast_id\": 43, \"character\": \"Suit #1\", \"credit_id\": \"52fe48009251416c750aca87\", \"gender\": 0, \"id\": 143206, \"name\": \"Michael Blain-Rozgay\", \"order\": 23}, {\"cast_id\": 44, \"character\": \"Suit #2\", \"credit_id\": \"52fe48009251416c750aca8b\", \"gender\": 2, \"id\": 169676, \"name\": \"Jon Curry\", \"order\": 24}, {\"cast_id\": 46, \"character\": \"Ambient Room Tech\", \"credit_id\": \"52fe48009251416c750aca8f\", \"gender\": 0, \"id\": 1048610, \"name\": \"Luke Hawker\", \"order\": 25}, {\"cast_id\": 47, \"character\": \"Ambient Room Tech / Troupe\", \"credit_id\": \"52fe48009251416c750aca93\", \"gender\": 0, \"id\": 42288, \"name\": \"Woody Schultz\", \"order\": 26}, {\"cast_id\": 48, \"character\": \"Horse Clan Leader\", \"credit_id\": \"52fe48009251416c750aca97\", \"gender\": 2, \"id\": 68278, \"name\": \"Peter Mensah\", \"order\": 27}, {\"cast_id\": 49, \"character\": \"Link Room Tech\", \"credit_id\": \"52fe48009251416c750aca9b\", \"gender\": 0, \"id\": 1207247, \"name\": \"Sonia Yee\", \"order\": 28}, {\"cast_id\": 50, \"character\": \"Basketball Avatar / Troupe\", \"credit_id\": \"52fe48009251416c750aca9f\", \"gender\": 1, \"id\": 1207248, \"name\": \"Jahnel Curfman\", \"order\": 29}, {\"cast_id\": 51, \"character\": \"Basketball Avatar\", \"credit_id\": \"52fe48009251416c750acaa3\", \"gender\": 0, \"id\": 89714, \"name\": \"Ilram Choi\", \"order\": 30}, {\"cast_id\": 52, \"character\": \"Na'vi Child\", \"credit_id\": \"52fe48009251416c750acaa7\", \"gender\": 0, \"id\": 1207249, \"name\": \"Kyla Warren\", \"order\": 31}, {\"cast_id\": 53, \"character\": \"Troupe\", \"credit_id\": \"52fe48009251416c750acaab\", \"gender\": 0, \"id\": 1207250, \"name\": \"Lisa Roumain\", \"order\": 32}, {\"cast_id\": 54, \"character\": \"Troupe\", \"credit_id\": \"52fe48009251416c750acaaf\", \"gender\": 1, \"id\": 83105, \"name\": \"Debra Wilson\", \"order\": 33}, {\"cast_id\": 57, \"character\": \"Troupe\", \"credit_id\": \"52fe48009251416c750acabb\", \"gender\": 0, \"id\": 1207253, \"name\": \"Chris Mala\", \"order\": 34}, {\"cast_id\": 55, \"character\": \"Troupe\", \"credit_id\": \"52fe48009251416c750acab3\", \"gender\": 0, \"id\": 1207251, \"name\": \"Taylor Kibby\", \"order\": 35}, {\"cast_id\": 56, \"character\": \"Troupe\", \"credit_id\": \"52fe48009251416c750acab7\", \"gender\": 0, \"id\": 1207252, \"name\": \"Jodie Landau\", \"order\": 36}, {\"cast_id\": 58, \"character\": \"Troupe\", \"credit_id\": \"52fe48009251416c750acabf\", \"gender\": 0, \"id\": 1207254, \"name\": \"Julie Lamm\", \"order\": 37}, {\"cast_id\": 59, \"character\": \"Troupe\", \"credit_id\": \"52fe48009251416c750acac3\", \"gender\": 0, \"id\": 1207257, \"name\": \"Cullen B. Madden\", \"order\": 38}, {\"cast_id\": 60, \"character\": \"Troupe\", \"credit_id\": \"52fe48009251416c750acac7\", \"gender\": 0, \"id\": 1207259, \"name\": \"Joseph Brady Madden\", \"order\": 39}, {\"cast_id\": 61, \"character\": \"Troupe\", \"credit_id\": \"52fe48009251416c750acacb\", \"gender\": 0, \"id\": 1207262, \"name\": \"Frankie Torres\", \"order\": 40}, {\"cast_id\": 62, \"character\": \"Troupe\", \"credit_id\": \"52fe48009251416c750acacf\", \"gender\": 1, \"id\": 1158600, \"name\": \"Austin Wilson\", \"order\": 41}, {\"cast_id\": 63, \"character\": \"Troupe\", \"credit_id\": \"52fe48019251416c750acad3\", \"gender\": 1, \"id\": 983705, \"name\": \"Sara Wilson\", \"order\": 42}, {\"cast_id\": 64, \"character\": \"Troupe\", \"credit_id\": \"52fe48019251416c750acad7\", \"gender\": 0, \"id\": 1207263, \"name\": \"Tamica Washington-Miller\", \"order\": 43}, {\"cast_id\": 65, \"character\": \"Op Center Staff\", \"credit_id\": \"52fe48019251416c750acadb\", \"gender\": 1, \"id\": 1145098, \"name\": \"Lucy Briant\", \"order\": 44}, {\"cast_id\": 66, \"character\": \"Op Center Staff\", \"credit_id\": \"52fe48019251416c750acadf\", \"gender\": 2, \"id\": 33305, \"name\": \"Nathan Meister\", \"order\": 45}, {\"cast_id\": 67, \"character\": \"Op Center Staff\", \"credit_id\": \"52fe48019251416c750acae3\", \"gender\": 0, \"id\": 1207264, \"name\": \"Gerry Blair\", \"order\": 46}, {\"cast_id\": 68, \"character\": \"Op Center Staff\", \"credit_id\": \"52fe48019251416c750acae7\", \"gender\": 2, \"id\": 33311, \"name\": \"Matthew Chamberlain\", \"order\": 47}, {\"cast_id\": 69, \"character\": \"Op Center Staff\", \"credit_id\": \"52fe48019251416c750acaeb\", \"gender\": 0, \"id\": 1207265, \"name\": \"Paul Yates\", \"order\": 48}, {\"cast_id\": 70, \"character\": \"Op Center Duty Officer\", \"credit_id\": \"52fe48019251416c750acaef\", \"gender\": 0, \"id\": 1207266, \"name\": \"Wray Wilson\", \"order\": 49}, {\"cast_id\": 71, \"character\": \"Op Center Staff\", \"credit_id\": \"52fe48019251416c750acaf3\", \"gender\": 2, \"id\": 54492, \"name\": \"James Gaylyn\", \"order\": 50}, {\"cast_id\": 72, \"character\": \"Dancer\", \"credit_id\": \"52fe48019251416c750acaf7\", \"gender\": 0, \"id\": 1207267, \"name\": \"Melvin Leno Clark III\", \"order\": 51}, {\"cast_id\": 73, \"character\": \"Dancer\", \"credit_id\": \"52fe48019251416c750acafb\", \"gender\": 0, \"id\": 1207268, \"name\": \"Carvon Futrell\", \"order\": 52}, {\"cast_id\": 74, \"character\": \"Dancer\", \"credit_id\": \"52fe48019251416c750acaff\", \"gender\": 0, \"id\": 1207269, \"name\": \"Brandon Jelkes\", \"order\": 53}, {\"cast_id\": 75, \"character\": \"Dancer\", \"credit_id\": \"52fe48019251416c750acb03\", \"gender\": 0, \"id\": 1207270, \"name\": \"Micah Moch\", \"order\": 54}, {\"cast_id\": 76, \"character\": \"Dancer\", \"credit_id\": \"52fe48019251416c750acb07\", \"gender\": 0, \"id\": 1207271, \"name\": \"Hanniyah Muhammad\", \"order\": 55}, {\"cast_id\": 77, \"character\": \"Dancer\", \"credit_id\": \"52fe48019251416c750acb0b\", \"gender\": 0, \"id\": 1207272, \"name\": \"Christopher Nolen\", \"order\": 56}, {\"cast_id\": 78, \"character\": \"Dancer\", \"credit_id\": \"52fe48019251416c750acb0f\", \"gender\": 0, \"id\": 1207273, \"name\": \"Christa Oliver\", \"order\": 57}, {\"cast_id\": 79, \"character\": \"Dancer\", \"credit_id\": \"52fe48019251416c750acb13\", \"gender\": 0, \"id\": 1207274, \"name\": \"April Marie Thomas\", \"order\": 58}, {\"cast_id\": 80, \"character\": \"Dancer\", \"credit_id\": \"52fe48019251416c750acb17\", \"gender\": 0, \"id\": 1207275, \"name\": \"Bravita A. Threatt\", \"order\": 59}, {\"cast_id\": 81, \"character\": \"Mining Chief (uncredited)\", \"credit_id\": \"52fe48019251416c750acb1b\", \"gender\": 0, \"id\": 1207276, \"name\": \"Colin Bleasdale\", \"order\": 60}, {\"cast_id\": 82, \"character\": \"Veteran Miner (uncredited)\", \"credit_id\": \"52fe48019251416c750acb1f\", \"gender\": 0, \"id\": 107969, \"name\": \"Mike Bodnar\", \"order\": 61}, {\"cast_id\": 83, \"character\": \"Richard (uncredited)\", \"credit_id\": \"52fe48019251416c750acb23\", \"gender\": 0, \"id\": 1207278, \"name\": \"Matt Clayton\", \"order\": 62}, {\"cast_id\": 84, \"character\": \"Nav'i (uncredited)\", \"credit_id\": \"52fe48019251416c750acb27\", \"gender\": 1, \"id\": 147898, \"name\": \"Nicole Dionne\", \"order\": 63}, {\"cast_id\": 85, \"character\": \"Trooper (uncredited)\", \"credit_id\": \"52fe48019251416c750acb2b\", \"gender\": 0, \"id\": 1207280, \"name\": \"Jamie Harrison\", \"order\": 64}, {\"cast_id\": 86, \"character\": \"Trooper (uncredited)\", \"credit_id\": \"52fe48019251416c750acb2f\", \"gender\": 0, \"id\": 1207281, \"name\": \"Allan Henry\", \"order\": 65}, {\"cast_id\": 87, \"character\": \"Ground Technician (uncredited)\", \"credit_id\": \"52fe48019251416c750acb33\", \"gender\": 2, \"id\": 1207282, \"name\": \"Anthony Ingruber\", \"order\": 66}, {\"cast_id\": 88, \"character\": \"Flight Crew Mechanic (uncredited)\", \"credit_id\": \"52fe48019251416c750acb37\", \"gender\": 0, \"id\": 1207283, \"name\": \"Ashley Jeffery\", \"order\": 67}, {\"cast_id\": 14, \"character\": \"Samson Pilot\", \"credit_id\": \"52fe48009251416c750ac9f9\", \"gender\": 0, \"id\": 98216, \"name\": \"Dean Knowsley\", \"order\": 68}, {\"cast_id\": 89, \"character\": \"Trooper (uncredited)\", \"credit_id\": \"52fe48019251416c750acb3b\", \"gender\": 0, \"id\": 1201399, \"name\": \"Joseph Mika-Hunt\", \"order\": 69}, {\"cast_id\": 90, \"character\": \"Banshee (uncredited)\", \"credit_id\": \"52fe48019251416c750acb3f\", \"gender\": 0, \"id\": 236696, \"name\": \"Terry Notary\", \"order\": 70}, {\"cast_id\": 91, \"character\": \"Soldier (uncredited)\", \"credit_id\": \"52fe48019251416c750acb43\", \"gender\": 0, \"id\": 1207287, \"name\": \"Kai Pantano\", \"order\": 71}, {\"cast_id\": 92, \"character\": \"Blast Technician (uncredited)\", \"credit_id\": \"52fe48019251416c750acb47\", \"gender\": 0, \"id\": 1207288, \"name\": \"Logan Pithyou\", \"order\": 72}, {\"cast_id\": 93, \"character\": \"Vindum Raah (uncredited)\", \"credit_id\": \"52fe48019251416c750acb4b\", \"gender\": 0, \"id\": 1207289, \"name\": \"Stuart Pollock\", \"order\": 73}, {\"cast_id\": 94, \"character\": \"Hero (uncredited)\", \"credit_id\": \"52fe48019251416c750acb4f\", \"gender\": 0, \"id\": 584868, \"name\": \"Raja\", \"order\": 74}, {\"cast_id\": 95, \"character\": \"Ops Centreworker (uncredited)\", \"credit_id\": \"52fe48019251416c750acb53\", \"gender\": 0, \"id\": 1207290, \"name\": \"Gareth Ruck\", \"order\": 75}, {\"cast_id\": 96, \"character\": \"Engineer (uncredited)\", \"credit_id\": \"52fe48019251416c750acb57\", \"gender\": 0, \"id\": 1062463, \"name\": \"Rhian Sheehan\", \"order\": 76}, {\"cast_id\": 97, \"character\": \"Col. Quaritch's Mech Suit (uncredited)\", \"credit_id\": \"52fe48019251416c750acb5b\", \"gender\": 0, \"id\": 60656, \"name\": \"T. J. Storm\", \"order\": 77}, {\"cast_id\": 98, \"character\": \"Female Marine (uncredited)\", \"credit_id\": \"52fe48019251416c750acb5f\", \"gender\": 0, \"id\": 1207291, \"name\": \"Jodie Taylor\", \"order\": 78}, {\"cast_id\": 99, \"character\": \"Ikran Clan Leader (uncredited)\", \"credit_id\": \"52fe48019251416c750acb63\", \"gender\": 1, \"id\": 1186027, \"name\": \"Alicia Vela-Bailey\", \"order\": 79}, {\"cast_id\": 100, \"character\": \"Geologist (uncredited)\", \"credit_id\": \"52fe48019251416c750acb67\", \"gender\": 0, \"id\": 1207292, \"name\": \"Richard Whiteside\", \"order\": 80}, {\"cast_id\": 101, \"character\": \"Na'vi (uncredited)\", \"credit_id\": \"52fe48019251416c750acb6b\", \"gender\": 0, \"id\": 103259, \"name\": \"Nikie Zambo\", \"order\": 81}, {\"cast_id\": 102, \"character\": \"Ambient Room Tech / Troupe\", \"credit_id\": \"52fe48019251416c750acb6f\", \"gender\": 1, \"id\": 42286, \"name\": \"Julene Renee\", \"order\": 82}]\n"
     ]
    }
   ],
   "source": [
    "import pandas as pd\n",
    "import numpy as np\n",
    "import os as os\n",
    "import csv\n",
    "import json\n",
    "csv_path = \"Resources/tmdb_5000_credits.csv\"\n",
    "\n",
    "Actors_pd = pd.read_csv(csv_path, encoding=\"utf-8\")\n",
    "Actors_pd.head()\n",
    "# print(Actors_pd[\"cast\"][0])\n",
    "# print(Actors_pd[\"cast\"][0])\n",
    "for i in Actors_pd[\"cast\"][0]:\n",
    "    print (i)\n",
    "# json.dumps(Actors_pd[\"cast\"][0]['cast_id'], sort_keys=True,indent=4, separators=(',', ': '))"
   ]
  },
  {
   "cell_type": "code",
   "execution_count": 100,
   "metadata": {},
   "outputs": [
    {
     "name": "stdout",
     "output_type": "stream",
     "text": [
      "What actor would you like to know about?Steven Seagal\n"
     ]
    }
   ],
   "source": [
    "actor_name = input (\"What actor would you like to know about?\")"
   ]
  },
  {
   "cell_type": "code",
   "execution_count": 101,
   "metadata": {},
   "outputs": [
    {
     "name": "stdout",
     "output_type": "stream",
     "text": [
      "Steven Seagal has been in 7 movies\n"
     ]
    }
   ],
   "source": [
    "selected_actor = Actors_pd[Actors_pd['cast'].str.contains(actor_name)]\n",
    "selected_actor = selected_actor.reset_index(drop=True)\n",
    "moviecount = len(selected_actor.index) -1\n",
    "print (str(actor_name) + \" has been in \" + str(moviecount) + \" movies\")"
   ]
  },
  {
   "cell_type": "code",
   "execution_count": 102,
   "metadata": {},
   "outputs": [
    {
     "name": "stdout",
     "output_type": "stream",
     "text": [
      "Steven Seagal has been in the following movies\n"
     ]
    },
    {
     "data": {
      "text/plain": [
       "0    Under Siege 2: Dark Territory\n",
       "1               Executive Decision\n",
       "2                 On Deadly Ground\n",
       "3                  The Glimmer Man\n",
       "4                      Exit Wounds\n",
       "5                   Half Past Dead\n",
       "6                          Machete\n",
       "7                    Code of Honor\n",
       "Name: title, dtype: object"
      ]
     },
     "execution_count": 102,
     "metadata": {},
     "output_type": "execute_result"
    }
   ],
   "source": [
    "print (str(actor_name) + \" has been in the following movies\")\n",
    "selected_actor[\"title\"]"
   ]
  },
  {
   "cell_type": "code",
   "execution_count": 105,
   "metadata": {},
   "outputs": [
    {
     "data": {
      "text/plain": [
       "<filter at 0x1df8caad860>"
      ]
     },
     "execution_count": 105,
     "metadata": {},
     "output_type": "execute_result"
    }
   ],
   "source": [
    "Directors = filter(lambda director:[\"department\"] ==  \"Directing\", selected_actor[\"crew\"])\n",
    "Directors"
   ]
  },
  {
   "cell_type": "code",
   "execution_count": 55,
   "metadata": {},
   "outputs": [
    {
     "data": {
      "text/plain": [
       "<function __main__.search>"
      ]
     },
     "execution_count": 55,
     "metadata": {},
     "output_type": "execute_result"
    }
   ],
   "source": [
    "def search (director, department):\n",
    "    return [element for element in selected_actor[\"crew\"] if element ['department'] == Director]\n"
   ]
  },
  {
   "cell_type": "code",
   "execution_count": 51,
   "metadata": {},
   "outputs": [
    {
     "data": {
      "text/html": [
       "<div>\n",
       "<style scoped>\n",
       "    .dataframe tbody tr th:only-of-type {\n",
       "        vertical-align: middle;\n",
       "    }\n",
       "\n",
       "    .dataframe tbody tr th {\n",
       "        vertical-align: top;\n",
       "    }\n",
       "\n",
       "    .dataframe thead th {\n",
       "        text-align: right;\n",
       "    }\n",
       "</style>\n",
       "<table border=\"1\" class=\"dataframe\">\n",
       "  <thead>\n",
       "    <tr style=\"text-align: right;\">\n",
       "      <th></th>\n",
       "      <th>movie_id</th>\n",
       "      <th>title</th>\n",
       "      <th>cast</th>\n",
       "      <th>crew</th>\n",
       "    </tr>\n",
       "  </thead>\n",
       "  <tbody>\n",
       "    <tr>\n",
       "      <th>74</th>\n",
       "      <td>137113</td>\n",
       "      <td>Edge of Tomorrow</td>\n",
       "      <td>[{\"cast_id\": 12, \"character\": \"Maj. William \\\"...</td>\n",
       "      <td>[{\"credit_id\": \"54124fadc3a3682f6b0004d7\", \"de...</td>\n",
       "    </tr>\n",
       "    <tr>\n",
       "      <th>134</th>\n",
       "      <td>177677</td>\n",
       "      <td>Mission: Impossible - Rogue Nation</td>\n",
       "      <td>[{\"cast_id\": 1, \"character\": \"Ethan Hunt\", \"cr...</td>\n",
       "      <td>[{\"credit_id\": \"550effb5c3a3683e7f002f43\", \"de...</td>\n",
       "    </tr>\n",
       "    <tr>\n",
       "      <th>139</th>\n",
       "      <td>956</td>\n",
       "      <td>Mission: Impossible III</td>\n",
       "      <td>[{\"cast_id\": 23, \"character\": \"Ethan Hunt\", \"c...</td>\n",
       "      <td>[{\"credit_id\": \"52fe4293c3a36847f8029707\", \"de...</td>\n",
       "    </tr>\n",
       "    <tr>\n",
       "      <th>153</th>\n",
       "      <td>56292</td>\n",
       "      <td>Mission: Impossible - Ghost Protocol</td>\n",
       "      <td>[{\"cast_id\": 5, \"character\": \"Ethan Hunt\", \"cr...</td>\n",
       "      <td>[{\"credit_id\": \"53563fb00e0a262861002dd0\", \"de...</td>\n",
       "    </tr>\n",
       "    <tr>\n",
       "      <th>156</th>\n",
       "      <td>616</td>\n",
       "      <td>The Last Samurai</td>\n",
       "      <td>[{\"cast_id\": 11, \"character\": \"Captain Nathan ...</td>\n",
       "      <td>[{\"credit_id\": \"52fe425ec3a36847f8018e53\", \"de...</td>\n",
       "    </tr>\n",
       "    <tr>\n",
       "      <th>185</th>\n",
       "      <td>74</td>\n",
       "      <td>War of the Worlds</td>\n",
       "      <td>[{\"cast_id\": 13, \"character\": \"Ray Ferrier\", \"...</td>\n",
       "      <td>[{\"credit_id\": \"52fe4213c3a36847f8002237\", \"de...</td>\n",
       "    </tr>\n",
       "    <tr>\n",
       "      <th>213</th>\n",
       "      <td>955</td>\n",
       "      <td>Mission: Impossible II</td>\n",
       "      <td>[{\"cast_id\": 31, \"character\": \"Ethan Hunt\", \"c...</td>\n",
       "      <td>[{\"credit_id\": \"589783759251412e1601cef6\", \"de...</td>\n",
       "    </tr>\n",
       "    <tr>\n",
       "      <th>227</th>\n",
       "      <td>37834</td>\n",
       "      <td>Knight and Day</td>\n",
       "      <td>[{\"cast_id\": 3, \"character\": \"Roy Miller\", \"cr...</td>\n",
       "      <td>[{\"credit_id\": \"563f4ac49251413442006a47\", \"de...</td>\n",
       "    </tr>\n",
       "    <tr>\n",
       "      <th>228</th>\n",
       "      <td>75612</td>\n",
       "      <td>Oblivion</td>\n",
       "      <td>[{\"cast_id\": 1, \"character\": \"Jack Harper\", \"c...</td>\n",
       "      <td>[{\"credit_id\": \"52fe4909c3a368484e11767f\", \"de...</td>\n",
       "    </tr>\n",
       "    <tr>\n",
       "      <th>275</th>\n",
       "      <td>180</td>\n",
       "      <td>Minority Report</td>\n",
       "      <td>[{\"cast_id\": 5, \"character\": \"Chief John Ander...</td>\n",
       "      <td>[{\"credit_id\": \"52fe4223c3a36847f8006f9b\", \"de...</td>\n",
       "    </tr>\n",
       "    <tr>\n",
       "      <th>353</th>\n",
       "      <td>7446</td>\n",
       "      <td>Tropic Thunder</td>\n",
       "      <td>[{\"cast_id\": 2, \"character\": \"Tugg Speedman\", ...</td>\n",
       "      <td>[{\"credit_id\": \"52fe447dc3a36847f8099323\", \"de...</td>\n",
       "    </tr>\n",
       "    <tr>\n",
       "      <th>360</th>\n",
       "      <td>2253</td>\n",
       "      <td>Valkyrie</td>\n",
       "      <td>[{\"cast_id\": 8, \"character\": \"Claus Schenk Gra...</td>\n",
       "      <td>[{\"credit_id\": \"538319b20e0a2657cd004f23\", \"de...</td>\n",
       "    </tr>\n",
       "    <tr>\n",
       "      <th>425</th>\n",
       "      <td>954</td>\n",
       "      <td>Mission: Impossible</td>\n",
       "      <td>[{\"cast_id\": 22, \"character\": \"Ethan Hunt\", \"c...</td>\n",
       "      <td>[{\"credit_id\": \"52fe4292c3a36847f80294b1\", \"de...</td>\n",
       "    </tr>\n",
       "    <tr>\n",
       "      <th>575</th>\n",
       "      <td>1903</td>\n",
       "      <td>Vanilla Sky</td>\n",
       "      <td>[{\"cast_id\": 13, \"character\": \"David Aames\", \"...</td>\n",
       "      <td>[{\"credit_id\": \"52fe4320c3a36847f803c339\", \"de...</td>\n",
       "    </tr>\n",
       "    <tr>\n",
       "      <th>598</th>\n",
       "      <td>80585</td>\n",
       "      <td>Rock of Ages</td>\n",
       "      <td>[{\"cast_id\": 19, \"character\": \"Sherrie Christi...</td>\n",
       "      <td>[{\"credit_id\": \"52fe47c99251416c91075b3b\", \"de...</td>\n",
       "    </tr>\n",
       "    <tr>\n",
       "      <th>650</th>\n",
       "      <td>345</td>\n",
       "      <td>Eyes Wide Shut</td>\n",
       "      <td>[{\"cast_id\": 1, \"character\": \"Dr. William 'Bil...</td>\n",
       "      <td>[{\"credit_id\": \"52fe423bc3a36847f800df81\", \"de...</td>\n",
       "    </tr>\n",
       "    <tr>\n",
       "      <th>673</th>\n",
       "      <td>818</td>\n",
       "      <td>Austin Powers in Goldmember</td>\n",
       "      <td>[{\"cast_id\": 29, \"character\": \"Austin Powers /...</td>\n",
       "      <td>[{\"credit_id\": \"52fe427bc3a36847f802215b\", \"de...</td>\n",
       "    </tr>\n",
       "    <tr>\n",
       "      <th>706</th>\n",
       "      <td>2119</td>\n",
       "      <td>Days of Thunder</td>\n",
       "      <td>[{\"cast_id\": 19, \"character\": \"Cole Trickle\", ...</td>\n",
       "      <td>[{\"credit_id\": \"52fe4337c3a36847f80434fd\", \"de...</td>\n",
       "    </tr>\n",
       "    <tr>\n",
       "      <th>714</th>\n",
       "      <td>1538</td>\n",
       "      <td>Collateral</td>\n",
       "      <td>[{\"cast_id\": 2, \"character\": \"Vincent\", \"credi...</td>\n",
       "      <td>[{\"credit_id\": \"5811265bc3a368798a00d2e3\", \"de...</td>\n",
       "    </tr>\n",
       "    <tr>\n",
       "      <th>717</th>\n",
       "      <td>75780</td>\n",
       "      <td>Jack Reacher</td>\n",
       "      <td>[{\"cast_id\": 1001, \"character\": \"Jack Reacher\"...</td>\n",
       "      <td>[{\"credit_id\": \"52fe4912c3a368484e1191ab\", \"de...</td>\n",
       "    </tr>\n",
       "    <tr>\n",
       "      <th>902</th>\n",
       "      <td>9390</td>\n",
       "      <td>Jerry Maguire</td>\n",
       "      <td>[{\"cast_id\": 1, \"character\": \"Jerry Maguire\", ...</td>\n",
       "      <td>[{\"credit_id\": \"52fe44f1c3a36847f80b33c7\", \"de...</td>\n",
       "    </tr>\n",
       "    <tr>\n",
       "      <th>912</th>\n",
       "      <td>628</td>\n",
       "      <td>Interview with the Vampire</td>\n",
       "      <td>[{\"cast_id\": 18, \"character\": \"Louis de Pointe...</td>\n",
       "      <td>[{\"credit_id\": \"52fe4260c3a36847f80199bf\", \"de...</td>\n",
       "    </tr>\n",
       "    <tr>\n",
       "      <th>1116</th>\n",
       "      <td>37233</td>\n",
       "      <td>The Firm</td>\n",
       "      <td>[{\"cast_id\": 13, \"character\": \"Mitch McDeere\",...</td>\n",
       "      <td>[{\"credit_id\": \"54a868b3c3a3680c29002755\", \"de...</td>\n",
       "    </tr>\n",
       "    <tr>\n",
       "      <th>1316</th>\n",
       "      <td>25793</td>\n",
       "      <td>Precious</td>\n",
       "      <td>[{\"cast_id\": 1, \"character\": \"Precious\", \"cred...</td>\n",
       "      <td>[{\"credit_id\": \"52fe44dec3a368484e03b7bf\", \"de...</td>\n",
       "    </tr>\n",
       "    <tr>\n",
       "      <th>1333</th>\n",
       "      <td>334</td>\n",
       "      <td>Magnolia</td>\n",
       "      <td>[{\"cast_id\": 3, \"character\": \"Linda Partridge\"...</td>\n",
       "      <td>[{\"credit_id\": \"52fe4239c3a36847f800d6cb\", \"de...</td>\n",
       "    </tr>\n",
       "    <tr>\n",
       "      <th>1439</th>\n",
       "      <td>4515</td>\n",
       "      <td>Lions for Lambs</td>\n",
       "      <td>[{\"cast_id\": 2, \"character\": \"Dr. Stephen Mall...</td>\n",
       "      <td>[{\"credit_id\": \"52fe43c7c3a36847f806f0b1\", \"de...</td>\n",
       "    </tr>\n",
       "    <tr>\n",
       "      <th>1478</th>\n",
       "      <td>881</td>\n",
       "      <td>A Few Good Men</td>\n",
       "      <td>[{\"cast_id\": 10, \"character\": \"Lt. Daniel Kaff...</td>\n",
       "      <td>[{\"credit_id\": \"52fe4286c3a36847f8025d91\", \"de...</td>\n",
       "    </tr>\n",
       "    <tr>\n",
       "      <th>1812</th>\n",
       "      <td>380</td>\n",
       "      <td>Rain Man</td>\n",
       "      <td>[{\"cast_id\": 4, \"character\": \"Raymond Babbitt\"...</td>\n",
       "      <td>[{\"credit_id\": \"52fe423cc3a36847f800e92d\", \"de...</td>\n",
       "    </tr>\n",
       "    <tr>\n",
       "      <th>2514</th>\n",
       "      <td>744</td>\n",
       "      <td>Top Gun</td>\n",
       "      <td>[{\"cast_id\": 13, \"character\": \"Pete 'Maverick'...</td>\n",
       "      <td>[{\"credit_id\": \"52fe426fc3a36847f801e685\", \"de...</td>\n",
       "    </tr>\n",
       "    <tr>\n",
       "      <th>2671</th>\n",
       "      <td>2604</td>\n",
       "      <td>Born on the Fourth of July</td>\n",
       "      <td>[{\"cast_id\": 1, \"character\": \"Ron Kovic\", \"cre...</td>\n",
       "      <td>[{\"credit_id\": \"52fe435fc3a36847f804f513\", \"de...</td>\n",
       "    </tr>\n",
       "    <tr>\n",
       "      <th>2736</th>\n",
       "      <td>11967</td>\n",
       "      <td>Young Guns</td>\n",
       "      <td>[{\"cast_id\": 11, \"character\": \"William H. 'Bil...</td>\n",
       "      <td>[{\"credit_id\": \"52fe44ab9251416c7503ce87\", \"de...</td>\n",
       "    </tr>\n",
       "    <tr>\n",
       "      <th>2985</th>\n",
       "      <td>11873</td>\n",
       "      <td>The Color of Money</td>\n",
       "      <td>[{\"cast_id\": 7, \"character\": \"Fast Eddie Felso...</td>\n",
       "      <td>[{\"credit_id\": \"52fe44979251416c7503a3ad\", \"de...</td>\n",
       "    </tr>\n",
       "    <tr>\n",
       "      <th>3012</th>\n",
       "      <td>227</td>\n",
       "      <td>The Outsiders</td>\n",
       "      <td>[{\"cast_id\": 11, \"character\": \"Dallas 'Dally' ...</td>\n",
       "      <td>[{\"credit_id\": \"52fe4229c3a36847f8008b9b\", \"de...</td>\n",
       "    </tr>\n",
       "    <tr>\n",
       "      <th>3383</th>\n",
       "      <td>33676</td>\n",
       "      <td>Losin' It</td>\n",
       "      <td>[{\"cast_id\": 1, \"character\": \"Woody\", \"credit_...</td>\n",
       "      <td>[{\"credit_id\": \"52fe452e9251416c9102a291\", \"de...</td>\n",
       "    </tr>\n",
       "  </tbody>\n",
       "</table>\n",
       "</div>"
      ],
      "text/plain": [
       "      movie_id                                 title  \\\n",
       "74      137113                      Edge of Tomorrow   \n",
       "134     177677    Mission: Impossible - Rogue Nation   \n",
       "139        956               Mission: Impossible III   \n",
       "153      56292  Mission: Impossible - Ghost Protocol   \n",
       "156        616                      The Last Samurai   \n",
       "185         74                     War of the Worlds   \n",
       "213        955                Mission: Impossible II   \n",
       "227      37834                        Knight and Day   \n",
       "228      75612                              Oblivion   \n",
       "275        180                       Minority Report   \n",
       "353       7446                        Tropic Thunder   \n",
       "360       2253                              Valkyrie   \n",
       "425        954                   Mission: Impossible   \n",
       "575       1903                           Vanilla Sky   \n",
       "598      80585                          Rock of Ages   \n",
       "650        345                        Eyes Wide Shut   \n",
       "673        818           Austin Powers in Goldmember   \n",
       "706       2119                       Days of Thunder   \n",
       "714       1538                            Collateral   \n",
       "717      75780                          Jack Reacher   \n",
       "902       9390                         Jerry Maguire   \n",
       "912        628            Interview with the Vampire   \n",
       "1116     37233                              The Firm   \n",
       "1316     25793                              Precious   \n",
       "1333       334                              Magnolia   \n",
       "1439      4515                       Lions for Lambs   \n",
       "1478       881                        A Few Good Men   \n",
       "1812       380                              Rain Man   \n",
       "2514       744                               Top Gun   \n",
       "2671      2604            Born on the Fourth of July   \n",
       "2736     11967                            Young Guns   \n",
       "2985     11873                    The Color of Money   \n",
       "3012       227                         The Outsiders   \n",
       "3383     33676                             Losin' It   \n",
       "\n",
       "                                                   cast  \\\n",
       "74    [{\"cast_id\": 12, \"character\": \"Maj. William \\\"...   \n",
       "134   [{\"cast_id\": 1, \"character\": \"Ethan Hunt\", \"cr...   \n",
       "139   [{\"cast_id\": 23, \"character\": \"Ethan Hunt\", \"c...   \n",
       "153   [{\"cast_id\": 5, \"character\": \"Ethan Hunt\", \"cr...   \n",
       "156   [{\"cast_id\": 11, \"character\": \"Captain Nathan ...   \n",
       "185   [{\"cast_id\": 13, \"character\": \"Ray Ferrier\", \"...   \n",
       "213   [{\"cast_id\": 31, \"character\": \"Ethan Hunt\", \"c...   \n",
       "227   [{\"cast_id\": 3, \"character\": \"Roy Miller\", \"cr...   \n",
       "228   [{\"cast_id\": 1, \"character\": \"Jack Harper\", \"c...   \n",
       "275   [{\"cast_id\": 5, \"character\": \"Chief John Ander...   \n",
       "353   [{\"cast_id\": 2, \"character\": \"Tugg Speedman\", ...   \n",
       "360   [{\"cast_id\": 8, \"character\": \"Claus Schenk Gra...   \n",
       "425   [{\"cast_id\": 22, \"character\": \"Ethan Hunt\", \"c...   \n",
       "575   [{\"cast_id\": 13, \"character\": \"David Aames\", \"...   \n",
       "598   [{\"cast_id\": 19, \"character\": \"Sherrie Christi...   \n",
       "650   [{\"cast_id\": 1, \"character\": \"Dr. William 'Bil...   \n",
       "673   [{\"cast_id\": 29, \"character\": \"Austin Powers /...   \n",
       "706   [{\"cast_id\": 19, \"character\": \"Cole Trickle\", ...   \n",
       "714   [{\"cast_id\": 2, \"character\": \"Vincent\", \"credi...   \n",
       "717   [{\"cast_id\": 1001, \"character\": \"Jack Reacher\"...   \n",
       "902   [{\"cast_id\": 1, \"character\": \"Jerry Maguire\", ...   \n",
       "912   [{\"cast_id\": 18, \"character\": \"Louis de Pointe...   \n",
       "1116  [{\"cast_id\": 13, \"character\": \"Mitch McDeere\",...   \n",
       "1316  [{\"cast_id\": 1, \"character\": \"Precious\", \"cred...   \n",
       "1333  [{\"cast_id\": 3, \"character\": \"Linda Partridge\"...   \n",
       "1439  [{\"cast_id\": 2, \"character\": \"Dr. Stephen Mall...   \n",
       "1478  [{\"cast_id\": 10, \"character\": \"Lt. Daniel Kaff...   \n",
       "1812  [{\"cast_id\": 4, \"character\": \"Raymond Babbitt\"...   \n",
       "2514  [{\"cast_id\": 13, \"character\": \"Pete 'Maverick'...   \n",
       "2671  [{\"cast_id\": 1, \"character\": \"Ron Kovic\", \"cre...   \n",
       "2736  [{\"cast_id\": 11, \"character\": \"William H. 'Bil...   \n",
       "2985  [{\"cast_id\": 7, \"character\": \"Fast Eddie Felso...   \n",
       "3012  [{\"cast_id\": 11, \"character\": \"Dallas 'Dally' ...   \n",
       "3383  [{\"cast_id\": 1, \"character\": \"Woody\", \"credit_...   \n",
       "\n",
       "                                                   crew  \n",
       "74    [{\"credit_id\": \"54124fadc3a3682f6b0004d7\", \"de...  \n",
       "134   [{\"credit_id\": \"550effb5c3a3683e7f002f43\", \"de...  \n",
       "139   [{\"credit_id\": \"52fe4293c3a36847f8029707\", \"de...  \n",
       "153   [{\"credit_id\": \"53563fb00e0a262861002dd0\", \"de...  \n",
       "156   [{\"credit_id\": \"52fe425ec3a36847f8018e53\", \"de...  \n",
       "185   [{\"credit_id\": \"52fe4213c3a36847f8002237\", \"de...  \n",
       "213   [{\"credit_id\": \"589783759251412e1601cef6\", \"de...  \n",
       "227   [{\"credit_id\": \"563f4ac49251413442006a47\", \"de...  \n",
       "228   [{\"credit_id\": \"52fe4909c3a368484e11767f\", \"de...  \n",
       "275   [{\"credit_id\": \"52fe4223c3a36847f8006f9b\", \"de...  \n",
       "353   [{\"credit_id\": \"52fe447dc3a36847f8099323\", \"de...  \n",
       "360   [{\"credit_id\": \"538319b20e0a2657cd004f23\", \"de...  \n",
       "425   [{\"credit_id\": \"52fe4292c3a36847f80294b1\", \"de...  \n",
       "575   [{\"credit_id\": \"52fe4320c3a36847f803c339\", \"de...  \n",
       "598   [{\"credit_id\": \"52fe47c99251416c91075b3b\", \"de...  \n",
       "650   [{\"credit_id\": \"52fe423bc3a36847f800df81\", \"de...  \n",
       "673   [{\"credit_id\": \"52fe427bc3a36847f802215b\", \"de...  \n",
       "706   [{\"credit_id\": \"52fe4337c3a36847f80434fd\", \"de...  \n",
       "714   [{\"credit_id\": \"5811265bc3a368798a00d2e3\", \"de...  \n",
       "717   [{\"credit_id\": \"52fe4912c3a368484e1191ab\", \"de...  \n",
       "902   [{\"credit_id\": \"52fe44f1c3a36847f80b33c7\", \"de...  \n",
       "912   [{\"credit_id\": \"52fe4260c3a36847f80199bf\", \"de...  \n",
       "1116  [{\"credit_id\": \"54a868b3c3a3680c29002755\", \"de...  \n",
       "1316  [{\"credit_id\": \"52fe44dec3a368484e03b7bf\", \"de...  \n",
       "1333  [{\"credit_id\": \"52fe4239c3a36847f800d6cb\", \"de...  \n",
       "1439  [{\"credit_id\": \"52fe43c7c3a36847f806f0b1\", \"de...  \n",
       "1478  [{\"credit_id\": \"52fe4286c3a36847f8025d91\", \"de...  \n",
       "1812  [{\"credit_id\": \"52fe423cc3a36847f800e92d\", \"de...  \n",
       "2514  [{\"credit_id\": \"52fe426fc3a36847f801e685\", \"de...  \n",
       "2671  [{\"credit_id\": \"52fe435fc3a36847f804f513\", \"de...  \n",
       "2736  [{\"credit_id\": \"52fe44ab9251416c7503ce87\", \"de...  \n",
       "2985  [{\"credit_id\": \"52fe44979251416c7503a3ad\", \"de...  \n",
       "3012  [{\"credit_id\": \"52fe4229c3a36847f8008b9b\", \"de...  \n",
       "3383  [{\"credit_id\": \"52fe452e9251416c9102a291\", \"de...  "
      ]
     },
     "execution_count": 51,
     "metadata": {},
     "output_type": "execute_result"
    }
   ],
   "source": [
    "#selected_actor = pd.concat ([selected_actor.DataFrame (x) for x in selected_actor [\"director\"]], keys=selected_actor)"
   ]
  },
  {
   "cell_type": "code",
   "execution_count": 31,
   "metadata": {},
   "outputs": [
    {
     "data": {
      "text/plain": [
       "<filter at 0x1df8c52add8>"
      ]
     },
     "execution_count": 31,
     "metadata": {},
     "output_type": "execute_result"
    }
   ],
   "source": [
    "filter(selected_actor, selected_actor[\"crew\"])"
   ]
  },
  {
   "cell_type": "code",
   "execution_count": 32,
   "metadata": {},
   "outputs": [
    {
     "ename": "AttributeError",
     "evalue": "'generator' object has no attribute 'next'",
     "output_type": "error",
     "traceback": [
      "\u001b[1;31m---------------------------------------------------------------------------\u001b[0m",
      "\u001b[1;31mAttributeError\u001b[0m                            Traceback (most recent call last)",
      "\u001b[1;32m<ipython-input-32-4520c68a26c4>\u001b[0m in \u001b[0;36m<module>\u001b[1;34m()\u001b[0m\n\u001b[1;32m----> 1\u001b[1;33m \u001b[1;33m(\u001b[0m\u001b[0mitem\u001b[0m \u001b[1;32mfor\u001b[0m \u001b[0mitem\u001b[0m \u001b[1;32min\u001b[0m \u001b[0mselected_actor\u001b[0m\u001b[1;33m[\u001b[0m\u001b[1;34m\"crew\"\u001b[0m\u001b[1;33m]\u001b[0m \u001b[1;32mif\u001b[0m \u001b[0mitem\u001b[0m \u001b[1;33m[\u001b[0m\u001b[1;34m\"department\"\u001b[0m\u001b[1;33m]\u001b[0m \u001b[1;33m==\u001b[0m \u001b[1;34m\"Director\"\u001b[0m\u001b[1;33m)\u001b[0m\u001b[1;33m.\u001b[0m\u001b[0mnext\u001b[0m\u001b[1;33m(\u001b[0m\u001b[1;33m)\u001b[0m\u001b[1;33m\u001b[0m\u001b[0m\n\u001b[0m",
      "\u001b[1;31mAttributeError\u001b[0m: 'generator' object has no attribute 'next'"
     ]
    }
   ],
   "source": [
    "(item for item in selected_actor[\"crew\"] if item [\"department\"] == \"Director\")"
   ]
  },
  {
   "cell_type": "code",
   "execution_count": null,
   "metadata": {},
   "outputs": [],
   "source": []
  }
 ],
 "metadata": {
  "kernelspec": {
   "display_name": "Python 3",
   "language": "python",
   "name": "python3"
  },
  "language_info": {
   "codemirror_mode": {
    "name": "ipython",
    "version": 3
   },
   "file_extension": ".py",
   "mimetype": "text/x-python",
   "name": "python",
   "nbconvert_exporter": "python",
   "pygments_lexer": "ipython3",
   "version": "3.6.4"
  }
 },
 "nbformat": 4,
 "nbformat_minor": 2
}
