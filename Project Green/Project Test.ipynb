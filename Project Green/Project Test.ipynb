{
 "cells": [
  {
   "cell_type": "code",
   "execution_count": 7,
   "metadata": {
    "scrolled": false
   },
   "outputs": [
    {
     "data": {
      "text/html": [
       "<div>\n",
       "<style scoped>\n",
       "    .dataframe tbody tr th:only-of-type {\n",
       "        vertical-align: middle;\n",
       "    }\n",
       "\n",
       "    .dataframe tbody tr th {\n",
       "        vertical-align: top;\n",
       "    }\n",
       "\n",
       "    .dataframe thead th {\n",
       "        text-align: right;\n",
       "    }\n",
       "</style>\n",
       "<table border=\"1\" class=\"dataframe\">\n",
       "  <thead>\n",
       "    <tr style=\"text-align: right;\">\n",
       "      <th></th>\n",
       "      <th>movie_id</th>\n",
       "      <th>title</th>\n",
       "      <th>cast</th>\n",
       "      <th>crew</th>\n",
       "    </tr>\n",
       "  </thead>\n",
       "  <tbody>\n",
       "    <tr>\n",
       "      <th>0</th>\n",
       "      <td>19995</td>\n",
       "      <td>Avatar</td>\n",
       "      <td>[{\"cast_id\": 242, \"character\": \"Jake Sully\", \"...</td>\n",
       "      <td>[{\"credit_id\": \"52fe48009251416c750aca23\", \"de...</td>\n",
       "    </tr>\n",
       "    <tr>\n",
       "      <th>1</th>\n",
       "      <td>285</td>\n",
       "      <td>Pirates of the Caribbean: At World's End</td>\n",
       "      <td>[{\"cast_id\": 4, \"character\": \"Captain Jack Spa...</td>\n",
       "      <td>[{\"credit_id\": \"52fe4232c3a36847f800b579\", \"de...</td>\n",
       "    </tr>\n",
       "    <tr>\n",
       "      <th>2</th>\n",
       "      <td>206647</td>\n",
       "      <td>Spectre</td>\n",
       "      <td>[{\"cast_id\": 1, \"character\": \"James Bond\", \"cr...</td>\n",
       "      <td>[{\"credit_id\": \"54805967c3a36829b5002c41\", \"de...</td>\n",
       "    </tr>\n",
       "    <tr>\n",
       "      <th>3</th>\n",
       "      <td>49026</td>\n",
       "      <td>The Dark Knight Rises</td>\n",
       "      <td>[{\"cast_id\": 2, \"character\": \"Bruce Wayne / Ba...</td>\n",
       "      <td>[{\"credit_id\": \"52fe4781c3a36847f81398c3\", \"de...</td>\n",
       "    </tr>\n",
       "    <tr>\n",
       "      <th>4</th>\n",
       "      <td>49529</td>\n",
       "      <td>John Carter</td>\n",
       "      <td>[{\"cast_id\": 5, \"character\": \"John Carter\", \"c...</td>\n",
       "      <td>[{\"credit_id\": \"52fe479ac3a36847f813eaa3\", \"de...</td>\n",
       "    </tr>\n",
       "  </tbody>\n",
       "</table>\n",
       "</div>"
      ],
      "text/plain": [
       "   movie_id                                     title  \\\n",
       "0     19995                                    Avatar   \n",
       "1       285  Pirates of the Caribbean: At World's End   \n",
       "2    206647                                   Spectre   \n",
       "3     49026                     The Dark Knight Rises   \n",
       "4     49529                               John Carter   \n",
       "\n",
       "                                                cast  \\\n",
       "0  [{\"cast_id\": 242, \"character\": \"Jake Sully\", \"...   \n",
       "1  [{\"cast_id\": 4, \"character\": \"Captain Jack Spa...   \n",
       "2  [{\"cast_id\": 1, \"character\": \"James Bond\", \"cr...   \n",
       "3  [{\"cast_id\": 2, \"character\": \"Bruce Wayne / Ba...   \n",
       "4  [{\"cast_id\": 5, \"character\": \"John Carter\", \"c...   \n",
       "\n",
       "                                                crew  \n",
       "0  [{\"credit_id\": \"52fe48009251416c750aca23\", \"de...  \n",
       "1  [{\"credit_id\": \"52fe4232c3a36847f800b579\", \"de...  \n",
       "2  [{\"credit_id\": \"54805967c3a36829b5002c41\", \"de...  \n",
       "3  [{\"credit_id\": \"52fe4781c3a36847f81398c3\", \"de...  \n",
       "4  [{\"credit_id\": \"52fe479ac3a36847f813eaa3\", \"de...  "
      ]
     },
     "execution_count": 7,
     "metadata": {},
     "output_type": "execute_result"
    }
   ],
   "source": [
    "import pandas as pd\n",
    "import numpy as np\n",
    "import os as os\n",
    "import csv\n",
    "import json\n",
    "csv_path = \"Resources/tmdb_5000_credits.csv\"\n",
    "Actors_pd = pd.read_csv(csv_path, encoding=\"utf-8\")\n",
    "Actors_pd.head()\n",
    "\n",
    "# print(Actors_pd[\"cast\"][0])\n",
    "# print(Actors_pd[\"cast\"][0])\n",
    "# print( Actors_pd[\"cast\"][0])\n",
    "\n",
    "#thing = eval('[' + Actors_pd[\"crew\"][0] + ']')\n",
    "# thing[0][0]['character']\n",
    "#arr = []\n",
    "#for i in thing[0]:\n",
    "#   arr.append(i)\n",
    "#df2 = pd.DataFrame(arr)\n",
    "#df2\n",
    "    # json.dumps(Actors_pd[\"cast\"][0]['cast_id'], sort_keys=True,indent=4, separators=(',', ': '))"
   ]
  },
  {
   "cell_type": "code",
   "execution_count": 8,
   "metadata": {},
   "outputs": [
    {
     "name": "stdout",
     "output_type": "stream",
     "text": [
      "What actor would you like to know about?Tom Cruise\n"
     ]
    }
   ],
   "source": [
    "actor_name = input (\"What actor would you like to know about?\")"
   ]
  },
  {
   "cell_type": "code",
   "execution_count": 9,
   "metadata": {},
   "outputs": [
    {
     "name": "stdout",
     "output_type": "stream",
     "text": [
      "Tom Cruise has been in 34 movies\n"
     ]
    }
   ],
   "source": [
    "selected_actor = Actors_pd[Actors_pd['cast'].str.contains(actor_name)]\n",
    "selected_actor = selected_actor.reset_index(drop=True)\n",
    "moviecount = len(selected_actor.index)\n",
    "print (str(actor_name) + \" has been in \" + str(moviecount) + \" movies\")"
   ]
  },
  {
   "cell_type": "code",
   "execution_count": 10,
   "metadata": {},
   "outputs": [
    {
     "name": "stdout",
     "output_type": "stream",
     "text": [
      "Tom Cruise has been in the following movies\n"
     ]
    },
    {
     "data": {
      "text/plain": [
       "0                         Edge of Tomorrow\n",
       "1       Mission: Impossible - Rogue Nation\n",
       "2                  Mission: Impossible III\n",
       "3     Mission: Impossible - Ghost Protocol\n",
       "4                         The Last Samurai\n",
       "5                        War of the Worlds\n",
       "6                   Mission: Impossible II\n",
       "7                           Knight and Day\n",
       "8                                 Oblivion\n",
       "9                          Minority Report\n",
       "10                          Tropic Thunder\n",
       "11                                Valkyrie\n",
       "12                     Mission: Impossible\n",
       "13                             Vanilla Sky\n",
       "14                            Rock of Ages\n",
       "15                          Eyes Wide Shut\n",
       "16             Austin Powers in Goldmember\n",
       "17                         Days of Thunder\n",
       "18                              Collateral\n",
       "19                            Jack Reacher\n",
       "20                           Jerry Maguire\n",
       "21              Interview with the Vampire\n",
       "22                                The Firm\n",
       "23                                Precious\n",
       "24                                Magnolia\n",
       "25                         Lions for Lambs\n",
       "26                          A Few Good Men\n",
       "27                                Rain Man\n",
       "28                                 Top Gun\n",
       "29              Born on the Fourth of July\n",
       "30                              Young Guns\n",
       "31                      The Color of Money\n",
       "32                           The Outsiders\n",
       "33                               Losin' It\n",
       "Name: title, dtype: object"
      ]
     },
     "execution_count": 10,
     "metadata": {},
     "output_type": "execute_result"
    }
   ],
   "source": [
    "print (str(actor_name) + \" has been in the following movies\")\n",
    "selected_actor[\"title\"]"
   ]
  },
  {
   "cell_type": "code",
   "execution_count": 14,
   "metadata": {},
   "outputs": [
    {
     "data": {
      "text/html": [
       "<div>\n",
       "<style scoped>\n",
       "    .dataframe tbody tr th:only-of-type {\n",
       "        vertical-align: middle;\n",
       "    }\n",
       "\n",
       "    .dataframe tbody tr th {\n",
       "        vertical-align: top;\n",
       "    }\n",
       "\n",
       "    .dataframe thead th {\n",
       "        text-align: right;\n",
       "    }\n",
       "</style>\n",
       "<table border=\"1\" class=\"dataframe\">\n",
       "  <thead>\n",
       "    <tr style=\"text-align: right;\">\n",
       "      <th></th>\n",
       "      <th>credit_id</th>\n",
       "      <th>department</th>\n",
       "      <th>gender</th>\n",
       "      <th>id</th>\n",
       "      <th>job</th>\n",
       "      <th>name</th>\n",
       "    </tr>\n",
       "  </thead>\n",
       "  <tbody>\n",
       "    <tr>\n",
       "      <th>9</th>\n",
       "      <td>52fe4c27c3a368484e1aa1cb</td>\n",
       "      <td>Directing</td>\n",
       "      <td>2</td>\n",
       "      <td>11694</td>\n",
       "      <td>Director</td>\n",
       "      <td>Doug Liman</td>\n",
       "    </tr>\n",
       "    <tr>\n",
       "      <th>26</th>\n",
       "      <td>54e5c9669251410a03001e6a</td>\n",
       "      <td>Directing</td>\n",
       "      <td>0</td>\n",
       "      <td>1119475</td>\n",
       "      <td>Script Supervisor</td>\n",
       "      <td>Samantha C. Kirkeby</td>\n",
       "    </tr>\n",
       "    <tr>\n",
       "      <th>60</th>\n",
       "      <td>543ce5a90e0a265354001293</td>\n",
       "      <td>Directing</td>\n",
       "      <td>1</td>\n",
       "      <td>1373729</td>\n",
       "      <td>Script Supervisor</td>\n",
       "      <td>Lisa Vick</td>\n",
       "    </tr>\n",
       "    <tr>\n",
       "      <th>73</th>\n",
       "      <td>54e5c9839251417b2500147a</td>\n",
       "      <td>Directing</td>\n",
       "      <td>0</td>\n",
       "      <td>1402943</td>\n",
       "      <td>Script Supervisor</td>\n",
       "      <td>Sylvia Parker</td>\n",
       "    </tr>\n",
       "    <tr>\n",
       "      <th>80</th>\n",
       "      <td>54e5c91b92514109fc002044</td>\n",
       "      <td>Directing</td>\n",
       "      <td>0</td>\n",
       "      <td>1428551</td>\n",
       "      <td>Script Supervisor</td>\n",
       "      <td>Caroline Bowker</td>\n",
       "    </tr>\n",
       "  </tbody>\n",
       "</table>\n",
       "</div>"
      ],
      "text/plain": [
       "                   credit_id department  gender       id                job  \\\n",
       "9   52fe4c27c3a368484e1aa1cb  Directing       2    11694           Director   \n",
       "26  54e5c9669251410a03001e6a  Directing       0  1119475  Script Supervisor   \n",
       "60  543ce5a90e0a265354001293  Directing       1  1373729  Script Supervisor   \n",
       "73  54e5c9839251417b2500147a  Directing       0  1402943  Script Supervisor   \n",
       "80  54e5c91b92514109fc002044  Directing       0  1428551  Script Supervisor   \n",
       "\n",
       "                   name  \n",
       "9            Doug Liman  \n",
       "26  Samantha C. Kirkeby  \n",
       "60            Lisa Vick  \n",
       "73        Sylvia Parker  \n",
       "80      Caroline Bowker  "
      ]
     },
     "execution_count": 14,
     "metadata": {},
     "output_type": "execute_result"
    }
   ],
   "source": [
    "thing = eval('[' + selected_actor[\"crew\"][0] + ']')\n",
    "# thing[0][0]['character']\n",
    "arr = []\n",
    "for i in thing[0]:\n",
    "   arr.append(i)\n",
    "df2 = pd.DataFrame(arr)\n",
    "Directors = df2.loc[df2[\"department\"]== \"Directing\",:]\n",
    "Directors.head()"
   ]
  },
  {
   "cell_type": "code",
   "execution_count": null,
   "metadata": {},
   "outputs": [],
   "source": [
    "thing = eval('[' + selected_actor[\"crew\"][1] + ']')\n",
    "for i in thing[0]:\n",
    "    print(i[\"Director\", \"name\"])\n",
    "\n",
    "#thing[0][0]['Director']\n",
    "#thing"
   ]
  },
  {
   "cell_type": "code",
   "execution_count": null,
   "metadata": {},
   "outputs": [],
   "source": [
    "#selected_actor = pd.concat ([selected_actor.DataFrame (x) for x in selected_actor [\"director\"]], keys=selected_actor)"
   ]
  },
  {
   "cell_type": "code",
   "execution_count": null,
   "metadata": {},
   "outputs": [],
   "source": [
    "filter(selected_actor, selected_actor[\"crew\"])"
   ]
  },
  {
   "cell_type": "code",
   "execution_count": null,
   "metadata": {},
   "outputs": [],
   "source": [
    "(item for item in selected_actor[\"crew\"] if item [\"department\"] == \"Director\")"
   ]
  },
  {
   "cell_type": "code",
   "execution_count": null,
   "metadata": {},
   "outputs": [],
   "source": []
  }
 ],
 "metadata": {
  "kernelspec": {
   "display_name": "Python 3",
   "language": "python",
   "name": "python3"
  },
  "language_info": {
   "codemirror_mode": {
    "name": "ipython",
    "version": 3
   },
   "file_extension": ".py",
   "mimetype": "text/x-python",
   "name": "python",
   "nbconvert_exporter": "python",
   "pygments_lexer": "ipython3",
   "version": "3.6.4"
  }
 },
 "nbformat": 4,
 "nbformat_minor": 2
}
